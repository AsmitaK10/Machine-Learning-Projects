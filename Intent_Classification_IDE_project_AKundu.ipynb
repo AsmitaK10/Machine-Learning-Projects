{
 "cells": [
  {
   "cell_type": "markdown",
   "id": "7d40335c",
   "metadata": {},
   "source": [
    "### Import the libraries"
   ]
  },
  {
   "cell_type": "code",
   "execution_count": 1,
   "id": "1196839c",
   "metadata": {},
   "outputs": [],
   "source": [
    "import pandas as pd"
   ]
  },
  {
   "cell_type": "markdown",
   "id": "4a7e10be",
   "metadata": {},
   "source": [
    "### Read the data"
   ]
  },
  {
   "cell_type": "code",
   "execution_count": 2,
   "id": "679d6f83",
   "metadata": {},
   "outputs": [
    {
     "data": {
      "text/html": [
       "<div>\n",
       "<style scoped>\n",
       "    .dataframe tbody tr th:only-of-type {\n",
       "        vertical-align: middle;\n",
       "    }\n",
       "\n",
       "    .dataframe tbody tr th {\n",
       "        vertical-align: top;\n",
       "    }\n",
       "\n",
       "    .dataframe thead th {\n",
       "        text-align: right;\n",
       "    }\n",
       "</style>\n",
       "<table border=\"1\" class=\"dataframe\">\n",
       "  <thead>\n",
       "    <tr style=\"text-align: right;\">\n",
       "      <th></th>\n",
       "      <th>Text</th>\n",
       "      <th>Intent</th>\n",
       "    </tr>\n",
       "  </thead>\n",
       "  <tbody>\n",
       "    <tr>\n",
       "      <th>0</th>\n",
       "      <td>It'll be great if you could delete this class ...</td>\n",
       "      <td>delete_class_in_curr_file</td>\n",
       "    </tr>\n",
       "    <tr>\n",
       "      <th>1</th>\n",
       "      <td>please can you close this file called shells.py</td>\n",
       "      <td>close_file</td>\n",
       "    </tr>\n",
       "    <tr>\n",
       "      <th>2</th>\n",
       "      <td>Could you please rename method named hello tha...</td>\n",
       "      <td>rename_fun_in_curr_file</td>\n",
       "    </tr>\n",
       "    <tr>\n",
       "      <th>3</th>\n",
       "      <td>Would you mind copying passenger function from...</td>\n",
       "      <td>copy_fun_in_another_file</td>\n",
       "    </tr>\n",
       "    <tr>\n",
       "      <th>4</th>\n",
       "      <td>Would you please modify the name of routine na...</td>\n",
       "      <td>rename_fun_in_another_file</td>\n",
       "    </tr>\n",
       "    <tr>\n",
       "      <th>...</th>\n",
       "      <td>...</td>\n",
       "      <td>...</td>\n",
       "    </tr>\n",
       "    <tr>\n",
       "      <th>73338</th>\n",
       "      <td>I'm requesting you to please rename hello name...</td>\n",
       "      <td>rename_class_in_curr_file</td>\n",
       "    </tr>\n",
       "    <tr>\n",
       "      <th>73339</th>\n",
       "      <td>can you please duplicate this class which is c...</td>\n",
       "      <td>copy_class_in_curr_file</td>\n",
       "    </tr>\n",
       "    <tr>\n",
       "      <th>73340</th>\n",
       "      <td>I'd be obliged if you could save this folder n...</td>\n",
       "      <td>save_file</td>\n",
       "    </tr>\n",
       "    <tr>\n",
       "      <th>73341</th>\n",
       "      <td>canal is a procedure in current program I woul...</td>\n",
       "      <td>move_fun_in_curr_file</td>\n",
       "    </tr>\n",
       "    <tr>\n",
       "      <th>73342</th>\n",
       "      <td>please could you copy arithmetical class from ...</td>\n",
       "      <td>copy_class_in_another_file</td>\n",
       "    </tr>\n",
       "  </tbody>\n",
       "</table>\n",
       "<p>73343 rows × 2 columns</p>\n",
       "</div>"
      ],
      "text/plain": [
       "                                                    Text  \\\n",
       "0      It'll be great if you could delete this class ...   \n",
       "1        please can you close this file called shells.py   \n",
       "2      Could you please rename method named hello tha...   \n",
       "3      Would you mind copying passenger function from...   \n",
       "4      Would you please modify the name of routine na...   \n",
       "...                                                  ...   \n",
       "73338  I'm requesting you to please rename hello name...   \n",
       "73339  can you please duplicate this class which is c...   \n",
       "73340  I'd be obliged if you could save this folder n...   \n",
       "73341  canal is a procedure in current program I woul...   \n",
       "73342  please could you copy arithmetical class from ...   \n",
       "\n",
       "                           Intent  \n",
       "0       delete_class_in_curr_file  \n",
       "1                      close_file  \n",
       "2         rename_fun_in_curr_file  \n",
       "3        copy_fun_in_another_file  \n",
       "4      rename_fun_in_another_file  \n",
       "...                           ...  \n",
       "73338   rename_class_in_curr_file  \n",
       "73339     copy_class_in_curr_file  \n",
       "73340                   save_file  \n",
       "73341       move_fun_in_curr_file  \n",
       "73342  copy_class_in_another_file  \n",
       "\n",
       "[73343 rows x 2 columns]"
      ]
     },
     "execution_count": 2,
     "metadata": {},
     "output_type": "execute_result"
    }
   ],
   "source": [
    "df = pd.read_csv('intents_classification_dataset.csv')\n",
    "df"
   ]
  },
  {
   "cell_type": "code",
   "execution_count": 3,
   "id": "0aa0fa38",
   "metadata": {},
   "outputs": [
    {
     "data": {
      "text/plain": [
       "array(['delete_class_in_curr_file', 'close_file',\n",
       "       'rename_fun_in_curr_file', 'copy_fun_in_another_file',\n",
       "       'rename_fun_in_another_file', 'rename_class_in_curr_file',\n",
       "       'delete_fun_in_another_file', 'rename_file',\n",
       "       'copy_fun_in_curr_file', 'undo', 'open_file',\n",
       "       'delete_class_in_another_file', 'delete_fun_in_curr_file',\n",
       "       'import_fun', 'rename_class_in_another_file',\n",
       "       'move_class_in_curr_file', 'import_class',\n",
       "       'move_class_in_another_file', 'move_fun_in_curr_file', 'save_file',\n",
       "       'delete_file', 'move_fun_in_another_file',\n",
       "       'copy_class_in_curr_file', 'create_file',\n",
       "       'copy_class_in_another_file', 'redo', 'compile'], dtype=object)"
      ]
     },
     "execution_count": 3,
     "metadata": {},
     "output_type": "execute_result"
    }
   ],
   "source": [
    "df['Intent'].unique()"
   ]
  },
  {
   "cell_type": "code",
   "execution_count": 4,
   "id": "1e4ac971",
   "metadata": {},
   "outputs": [],
   "source": [
    "import warnings\n",
    "warnings.filterwarnings('ignore')"
   ]
  },
  {
   "cell_type": "markdown",
   "id": "a7781fe4",
   "metadata": {},
   "source": [
    "### Exploratory Data Analysis"
   ]
  },
  {
   "cell_type": "code",
   "execution_count": 5,
   "id": "155bf8be",
   "metadata": {},
   "outputs": [],
   "source": [
    "import matplotlib.pyplot as plt"
   ]
  },
  {
   "cell_type": "code",
   "execution_count": 6,
   "id": "b20fcade",
   "metadata": {},
   "outputs": [
    {
     "data": {
      "text/plain": [
       "delete_class_in_curr_file       3720\n",
       "copy_class_in_curr_file         3720\n",
       "copy_fun_in_curr_file           3717\n",
       "delete_fun_in_curr_file         3655\n",
       "import_fun                      3509\n",
       "delete_class_in_another_file    3132\n",
       "move_class_in_curr_file         3131\n",
       "move_fun_in_curr_file           3129\n",
       "delete_fun_in_another_file      3128\n",
       "rename_class_in_curr_file       3060\n",
       "move_class_in_another_file      3059\n",
       "rename_fun_in_curr_file         3058\n",
       "rename_fun_in_another_file      3056\n",
       "rename_class_in_another_file    3056\n",
       "move_fun_in_another_file        3027\n",
       "rename_file                     3002\n",
       "import_class                    2969\n",
       "save_file                       2158\n",
       "open_file                       2158\n",
       "delete_file                     2154\n",
       "close_file                      2150\n",
       "copy_class_in_another_file      2040\n",
       "copy_fun_in_another_file        2038\n",
       "create_file                     1736\n",
       "redo                            1283\n",
       "undo                            1265\n",
       "compile                         1233\n",
       "Name: Intent, dtype: int64"
      ]
     },
     "execution_count": 6,
     "metadata": {},
     "output_type": "execute_result"
    }
   ],
   "source": [
    "Intent_count = df['Intent'].value_counts()\n",
    "Intent_count"
   ]
  },
  {
   "cell_type": "code",
   "execution_count": 7,
   "id": "7795fc8f",
   "metadata": {},
   "outputs": [
    {
     "data": {
      "text/plain": [
       "<BarContainer object of 27 artists>"
      ]
     },
     "execution_count": 7,
     "metadata": {},
     "output_type": "execute_result"
    },
    {
     "data": {
      "image/png": "[encoded data removed]",
      "text/plain": [
       "<Figure size 1152x648 with 1 Axes>"
      ]
     },
     "metadata": {
      "needs_background": "light"
     },
     "output_type": "display_data"
    }
   ],
   "source": [
    "plt.figure(figsize=(16,9))\n",
    "plt.title('Distribution of Intents')\n",
    "plt.xticks(rotation=-90)\n",
    "plt.xlabel('Intent')\n",
    "plt.ylabel('Count')\n",
    "plt.grid()\n",
    "plt.bar(Intent_count.index, Intent_count.values)"
   ]
  },
  {
   "cell_type": "markdown",
   "id": "d30f21a5",
   "metadata": {},
   "source": [
    "### Intent Prediction Model"
   ]
  },
  {
   "cell_type": "code",
   "execution_count": 8,
   "id": "f1d1a206",
   "metadata": {},
   "outputs": [],
   "source": [
    "from sklearn.model_selection import train_test_split\n",
    "from sklearn.feature_extraction.text import TfidfVectorizer"
   ]
  },
  {
   "cell_type": "code",
   "execution_count": 9,
   "id": "3b88936a",
   "metadata": {},
   "outputs": [],
   "source": [
    "x = df['Text']\n",
    "y = df['Intent']"
   ]
  },
  {
   "cell_type": "code",
   "execution_count": 10,
   "id": "4bf7454c",
   "metadata": {},
   "outputs": [
    {
     "data": {
      "text/plain": [
       "0        It'll be great if you could delete this class ...\n",
       "1          please can you close this file called shells.py\n",
       "2        Could you please rename method named hello tha...\n",
       "3        Would you mind copying passenger function from...\n",
       "4        Would you please modify the name of routine na...\n",
       "                               ...                        \n",
       "73338    I'm requesting you to please rename hello name...\n",
       "73339    can you please duplicate this class which is c...\n",
       "73340    I'd be obliged if you could save this folder n...\n",
       "73341    canal is a procedure in current program I woul...\n",
       "73342    please could you copy arithmetical class from ...\n",
       "Name: Text, Length: 73343, dtype: object"
      ]
     },
     "execution_count": 10,
     "metadata": {},
     "output_type": "execute_result"
    }
   ],
   "source": [
    "x"
   ]
  },
  {
   "cell_type": "code",
   "execution_count": 11,
   "id": "a094ed87",
   "metadata": {},
   "outputs": [],
   "source": [
    "x_train, x_test, y_train, y_test = train_test_split(\n",
    "    x, y, random_state=0)"
   ]
  },
  {
   "cell_type": "code",
   "execution_count": 12,
   "id": "3aa14e1c",
   "metadata": {},
   "outputs": [
    {
     "data": {
      "text/plain": [
       "(55007,)"
      ]
     },
     "execution_count": 12,
     "metadata": {},
     "output_type": "execute_result"
    }
   ],
   "source": [
    "x_train.shape"
   ]
  },
  {
   "cell_type": "markdown",
   "id": "6acf970c",
   "metadata": {},
   "source": [
    "#### Vectorize the data"
   ]
  },
  {
   "cell_type": "code",
   "execution_count": 13,
   "id": "5a1c8db2",
   "metadata": {},
   "outputs": [],
   "source": [
    "vectorizer = TfidfVectorizer()\n",
    "vectorizer.fit(x)\n",
    "\n",
    "x_train_vec = vectorizer.transform(x_train) \n",
    "x_test_vec = vectorizer.transform(x_test)"
   ]
  },
  {
   "cell_type": "code",
   "execution_count": 14,
   "id": "c77bc2db",
   "metadata": {},
   "outputs": [
    {
     "data": {
      "text/plain": [
       "(55007, 34888)"
      ]
     },
     "execution_count": 14,
     "metadata": {},
     "output_type": "execute_result"
    }
   ],
   "source": [
    "x_train_vec.shape"
   ]
  },
  {
   "cell_type": "code",
   "execution_count": 15,
   "id": "ffbc13e7",
   "metadata": {},
   "outputs": [
    {
     "data": {
      "text/plain": [
       "(18336, 34888)"
      ]
     },
     "execution_count": 15,
     "metadata": {},
     "output_type": "execute_result"
    }
   ],
   "source": [
    "x_test_vec.shape"
   ]
  },
  {
   "cell_type": "markdown",
   "id": "a9e684ea",
   "metadata": {},
   "source": [
    "### Support Vector Machine (SVM)"
   ]
  },
  {
   "cell_type": "code",
   "execution_count": 16,
   "id": "be5008de",
   "metadata": {},
   "outputs": [],
   "source": [
    "from sklearn.svm import SVC"
   ]
  },
  {
   "cell_type": "code",
   "execution_count": 17,
   "id": "e91a486c",
   "metadata": {},
   "outputs": [
    {
     "data": {
      "text/html": [
       "<style>#sk-container-id-1 {color: black;}#sk-container-id-1 pre{padding: 0;}#sk-container-id-1 div.sk-toggleable {background-color: white;}#sk-container-id-1 label.sk-toggleable__label {cursor: pointer;display: block;width: 100%;margin-bottom: 0;padding: 0.3em;box-sizing: border-box;text-align: center;}#sk-container-id-1 label.sk-toggleable__label-arrow:before {content: \"▸\";float: left;margin-right: 0.25em;color: #696969;}#sk-container-id-1 label.sk-toggleable__label-arrow:hover:before {color: black;}#sk-container-id-1 div.sk-estimator:hover label.sk-toggleable__label-arrow:before {color: black;}#sk-container-id-1 div.sk-toggleable__content {max-height: 0;max-width: 0;overflow: hidden;text-align: left;background-color: #f0f8ff;}#sk-container-id-1 div.sk-toggleable__content pre {margin: 0.2em;color: black;border-radius: 0.25em;background-color: #f0f8ff;}#sk-container-id-1 input.sk-toggleable__control:checked~div.sk-toggleable__content {max-height: 200px;max-width: 100%;overflow: auto;}#sk-container-id-1 input.sk-toggleable__control:checked~label.sk-toggleable__label-arrow:before {content: \"▾\";}#sk-container-id-1 div.sk-estimator input.sk-toggleable__control:checked~label.sk-toggleable__label {background-color: #d4ebff;}#sk-container-id-1 div.sk-label input.sk-toggleable__control:checked~label.sk-toggleable__label {background-color: #d4ebff;}#sk-container-id-1 input.sk-hidden--visually {border: 0;clip: rect(1px 1px 1px 1px);clip: rect(1px, 1px, 1px, 1px);height: 1px;margin: -1px;overflow: hidden;padding: 0;position: absolute;width: 1px;}#sk-container-id-1 div.sk-estimator {font-family: monospace;background-color: #f0f8ff;border: 1px dotted black;border-radius: 0.25em;box-sizing: border-box;margin-bottom: 0.5em;}#sk-container-id-1 div.sk-estimator:hover {background-color: #d4ebff;}#sk-container-id-1 div.sk-parallel-item::after {content: \"\";width: 100%;border-bottom: 1px solid gray;flex-grow: 1;}#sk-container-id-1 div.sk-label:hover label.sk-toggleable__label {background-color: #d4ebff;}#sk-container-id-1 div.sk-serial::before {content: \"\";position: absolute;border-left: 1px solid gray;box-sizing: border-box;top: 0;bottom: 0;left: 50%;z-index: 0;}#sk-container-id-1 div.sk-serial {display: flex;flex-direction: column;align-items: center;background-color: white;padding-right: 0.2em;padding-left: 0.2em;position: relative;}#sk-container-id-1 div.sk-item {position: relative;z-index: 1;}#sk-container-id-1 div.sk-parallel {display: flex;align-items: stretch;justify-content: center;background-color: white;position: relative;}#sk-container-id-1 div.sk-item::before, #sk-container-id-1 div.sk-parallel-item::before {content: \"\";position: absolute;border-left: 1px solid gray;box-sizing: border-box;top: 0;bottom: 0;left: 50%;z-index: -1;}#sk-container-id-1 div.sk-parallel-item {display: flex;flex-direction: column;z-index: 1;position: relative;background-color: white;}#sk-container-id-1 div.sk-parallel-item:first-child::after {align-self: flex-end;width: 50%;}#sk-container-id-1 div.sk-parallel-item:last-child::after {align-self: flex-start;width: 50%;}#sk-container-id-1 div.sk-parallel-item:only-child::after {width: 0;}#sk-container-id-1 div.sk-dashed-wrapped {border: 1px dashed gray;margin: 0 0.4em 0.5em 0.4em;box-sizing: border-box;padding-bottom: 0.4em;background-color: white;}#sk-container-id-1 div.sk-label label {font-family: monospace;font-weight: bold;display: inline-block;line-height: 1.2em;}#sk-container-id-1 div.sk-label-container {text-align: center;}#sk-container-id-1 div.sk-container {/* jupyter's `normalize.less` sets `[hidden] { display: none; }` but bootstrap.min.css set `[hidden] { display: none !important; }` so we also need the `!important` here to be able to override the default hidden behavior on the sphinx rendered scikit-learn.org. See: https://github.com/scikit-learn/scikit-learn/issues/21755 */display: inline-block !important;position: relative;}#sk-container-id-1 div.sk-text-repr-fallback {display: none;}</style><div id=\"sk-container-id-1\" class=\"sk-top-container\"><div class=\"sk-text-repr-fallback\"><pre>SVC()</pre><b>In a Jupyter environment, please rerun this cell to show the HTML representation or trust the notebook. <br />On GitHub, the HTML representation is unable to render, please try loading this page with nbviewer.org.</b></div><div class=\"sk-container\" hidden><div class=\"sk-item\"><div class=\"sk-estimator sk-toggleable\"><input class=\"sk-toggleable__control sk-hidden--visually\" id=\"sk-estimator-id-1\" type=\"checkbox\" checked><label for=\"sk-estimator-id-1\" class=\"sk-toggleable__label sk-toggleable__label-arrow\">SVC</label><div class=\"sk-toggleable__content\"><pre>SVC()</pre></div></div></div></div></div>"
      ],
      "text/plain": [
       "SVC()"
      ]
     },
     "execution_count": 17,
     "metadata": {},
     "output_type": "execute_result"
    }
   ],
   "source": [
    "svc = SVC()\n",
    "svc.fit(x_train_vec, y_train)"
   ]
  },
  {
   "cell_type": "code",
   "execution_count": 18,
   "id": "e3d49f93",
   "metadata": {},
   "outputs": [],
   "source": [
    "y_pred_svc = svc.predict(x_test_vec)"
   ]
  },
  {
   "cell_type": "markdown",
   "id": "91a63af9",
   "metadata": {},
   "source": [
    "#### Performance Analysis"
   ]
  },
  {
   "cell_type": "code",
   "execution_count": 19,
   "id": "51473677",
   "metadata": {},
   "outputs": [],
   "source": [
    "from sklearn.metrics import classification_report, accuracy_score"
   ]
  },
  {
   "cell_type": "code",
   "execution_count": 20,
   "id": "505e22d9",
   "metadata": {},
   "outputs": [
    {
     "name": "stdout",
     "output_type": "stream",
     "text": [
      "                              precision    recall  f1-score   support\n",
      "\n",
      "                  close_file       0.99      0.97      0.98       521\n",
      "                     compile       0.99      1.00      0.99       292\n",
      "  copy_class_in_another_file       1.00      1.00      1.00       512\n",
      "     copy_class_in_curr_file       1.00      1.00      1.00       940\n",
      "    copy_fun_in_another_file       0.99      1.00      1.00       464\n",
      "       copy_fun_in_curr_file       1.00      1.00      1.00       901\n",
      "                 create_file       1.00      0.97      0.99       443\n",
      "delete_class_in_another_file       1.00      1.00      1.00       824\n",
      "   delete_class_in_curr_file       1.00      1.00      1.00       923\n",
      "                 delete_file       1.00      1.00      1.00       542\n",
      "  delete_fun_in_another_file       1.00      1.00      1.00       765\n",
      "     delete_fun_in_curr_file       1.00      1.00      1.00       900\n",
      "                import_class       1.00      1.00      1.00       754\n",
      "                  import_fun       1.00      1.00      1.00       863\n",
      "  move_class_in_another_file       1.00      1.00      1.00       767\n",
      "     move_class_in_curr_file       1.00      1.00      1.00       810\n",
      "    move_fun_in_another_file       1.00      0.99      1.00       770\n",
      "       move_fun_in_curr_file       1.00      1.00      1.00       799\n",
      "                   open_file       0.97      0.98      0.98       552\n",
      "                        redo       1.00      0.99      1.00       312\n",
      "rename_class_in_another_file       1.00      1.00      1.00       769\n",
      "   rename_class_in_curr_file       1.00      1.00      1.00       788\n",
      "                 rename_file       1.00      1.00      1.00       706\n",
      "  rename_fun_in_another_file       1.00      1.00      1.00       809\n",
      "     rename_fun_in_curr_file       1.00      1.00      1.00       757\n",
      "                   save_file       0.95      0.98      0.97       550\n",
      "                        undo       1.00      0.99      1.00       303\n",
      "\n",
      "                    accuracy                           1.00     18336\n",
      "                   macro avg       1.00      1.00      1.00     18336\n",
      "                weighted avg       1.00      1.00      1.00     18336\n",
      "\n"
     ]
    }
   ],
   "source": [
    "print(classification_report(y_test, y_pred_svc))"
   ]
  },
  {
   "cell_type": "code",
   "execution_count": 21,
   "id": "7e9a36f5",
   "metadata": {},
   "outputs": [
    {
     "name": "stdout",
     "output_type": "stream",
     "text": [
      "Accuracy score: 99.67822862129145\n"
     ]
    }
   ],
   "source": [
    "print('Accuracy score:', accuracy_score(y_test, y_pred_svc)*100)"
   ]
  },
  {
   "cell_type": "code",
   "execution_count": null,
   "id": "263b3eaa",
   "metadata": {},
   "outputs": [],
   "source": []
  },
  {
   "cell_type": "markdown",
   "id": "54782609",
   "metadata": {},
   "source": [
    "### Multinomial Naive Bayes (MultinomialNB)"
   ]
  },
  {
   "cell_type": "code",
   "execution_count": 22,
   "id": "86144c57",
   "metadata": {},
   "outputs": [],
   "source": [
    "from sklearn.naive_bayes import MultinomialNB"
   ]
  },
  {
   "cell_type": "code",
   "execution_count": 23,
   "id": "3f41f7a6",
   "metadata": {},
   "outputs": [
    {
     "data": {
      "text/html": [
       "<style>#sk-container-id-2 {color: black;}#sk-container-id-2 pre{padding: 0;}#sk-container-id-2 div.sk-toggleable {background-color: white;}#sk-container-id-2 label.sk-toggleable__label {cursor: pointer;display: block;width: 100%;margin-bottom: 0;padding: 0.3em;box-sizing: border-box;text-align: center;}#sk-container-id-2 label.sk-toggleable__label-arrow:before {content: \"▸\";float: left;margin-right: 0.25em;color: #696969;}#sk-container-id-2 label.sk-toggleable__label-arrow:hover:before {color: black;}#sk-container-id-2 div.sk-estimator:hover label.sk-toggleable__label-arrow:before {color: black;}#sk-container-id-2 div.sk-toggleable__content {max-height: 0;max-width: 0;overflow: hidden;text-align: left;background-color: #f0f8ff;}#sk-container-id-2 div.sk-toggleable__content pre {margin: 0.2em;color: black;border-radius: 0.25em;background-color: #f0f8ff;}#sk-container-id-2 input.sk-toggleable__control:checked~div.sk-toggleable__content {max-height: 200px;max-width: 100%;overflow: auto;}#sk-container-id-2 input.sk-toggleable__control:checked~label.sk-toggleable__label-arrow:before {content: \"▾\";}#sk-container-id-2 div.sk-estimator input.sk-toggleable__control:checked~label.sk-toggleable__label {background-color: #d4ebff;}#sk-container-id-2 div.sk-label input.sk-toggleable__control:checked~label.sk-toggleable__label {background-color: #d4ebff;}#sk-container-id-2 input.sk-hidden--visually {border: 0;clip: rect(1px 1px 1px 1px);clip: rect(1px, 1px, 1px, 1px);height: 1px;margin: -1px;overflow: hidden;padding: 0;position: absolute;width: 1px;}#sk-container-id-2 div.sk-estimator {font-family: monospace;background-color: #f0f8ff;border: 1px dotted black;border-radius: 0.25em;box-sizing: border-box;margin-bottom: 0.5em;}#sk-container-id-2 div.sk-estimator:hover {background-color: #d4ebff;}#sk-container-id-2 div.sk-parallel-item::after {content: \"\";width: 100%;border-bottom: 1px solid gray;flex-grow: 1;}#sk-container-id-2 div.sk-label:hover label.sk-toggleable__label {background-color: #d4ebff;}#sk-container-id-2 div.sk-serial::before {content: \"\";position: absolute;border-left: 1px solid gray;box-sizing: border-box;top: 0;bottom: 0;left: 50%;z-index: 0;}#sk-container-id-2 div.sk-serial {display: flex;flex-direction: column;align-items: center;background-color: white;padding-right: 0.2em;padding-left: 0.2em;position: relative;}#sk-container-id-2 div.sk-item {position: relative;z-index: 1;}#sk-container-id-2 div.sk-parallel {display: flex;align-items: stretch;justify-content: center;background-color: white;position: relative;}#sk-container-id-2 div.sk-item::before, #sk-container-id-2 div.sk-parallel-item::before {content: \"\";position: absolute;border-left: 1px solid gray;box-sizing: border-box;top: 0;bottom: 0;left: 50%;z-index: -1;}#sk-container-id-2 div.sk-parallel-item {display: flex;flex-direction: column;z-index: 1;position: relative;background-color: white;}#sk-container-id-2 div.sk-parallel-item:first-child::after {align-self: flex-end;width: 50%;}#sk-container-id-2 div.sk-parallel-item:last-child::after {align-self: flex-start;width: 50%;}#sk-container-id-2 div.sk-parallel-item:only-child::after {width: 0;}#sk-container-id-2 div.sk-dashed-wrapped {border: 1px dashed gray;margin: 0 0.4em 0.5em 0.4em;box-sizing: border-box;padding-bottom: 0.4em;background-color: white;}#sk-container-id-2 div.sk-label label {font-family: monospace;font-weight: bold;display: inline-block;line-height: 1.2em;}#sk-container-id-2 div.sk-label-container {text-align: center;}#sk-container-id-2 div.sk-container {/* jupyter's `normalize.less` sets `[hidden] { display: none; }` but bootstrap.min.css set `[hidden] { display: none !important; }` so we also need the `!important` here to be able to override the default hidden behavior on the sphinx rendered scikit-learn.org. See: https://github.com/scikit-learn/scikit-learn/issues/21755 */display: inline-block !important;position: relative;}#sk-container-id-2 div.sk-text-repr-fallback {display: none;}</style><div id=\"sk-container-id-2\" class=\"sk-top-container\"><div class=\"sk-text-repr-fallback\"><pre>MultinomialNB()</pre><b>In a Jupyter environment, please rerun this cell to show the HTML representation or trust the notebook. <br />On GitHub, the HTML representation is unable to render, please try loading this page with nbviewer.org.</b></div><div class=\"sk-container\" hidden><div class=\"sk-item\"><div class=\"sk-estimator sk-toggleable\"><input class=\"sk-toggleable__control sk-hidden--visually\" id=\"sk-estimator-id-2\" type=\"checkbox\" checked><label for=\"sk-estimator-id-2\" class=\"sk-toggleable__label sk-toggleable__label-arrow\">MultinomialNB</label><div class=\"sk-toggleable__content\"><pre>MultinomialNB()</pre></div></div></div></div></div>"
      ],
      "text/plain": [
       "MultinomialNB()"
      ]
     },
     "execution_count": 23,
     "metadata": {},
     "output_type": "execute_result"
    }
   ],
   "source": [
    "mnb = MultinomialNB()\n",
    "mnb.fit(x_train_vec, y_train)"
   ]
  },
  {
   "cell_type": "code",
   "execution_count": 24,
   "id": "5849b098",
   "metadata": {},
   "outputs": [],
   "source": [
    "y_pred_mnb = mnb.predict(x_test_vec)"
   ]
  },
  {
   "cell_type": "markdown",
   "id": "e8f5ab98",
   "metadata": {},
   "source": [
    "#### Performance Analysis"
   ]
  },
  {
   "cell_type": "code",
   "execution_count": 25,
   "id": "fea9b163",
   "metadata": {},
   "outputs": [],
   "source": [
    "from sklearn.metrics import classification_report, accuracy_score"
   ]
  },
  {
   "cell_type": "code",
   "execution_count": 26,
   "id": "b407234f",
   "metadata": {},
   "outputs": [
    {
     "name": "stdout",
     "output_type": "stream",
     "text": [
      "                              precision    recall  f1-score   support\n",
      "\n",
      "                  close_file       0.99      0.97      0.98       521\n",
      "                     compile       1.00      0.98      0.99       292\n",
      "  copy_class_in_another_file       1.00      0.26      0.41       512\n",
      "     copy_class_in_curr_file       0.83      1.00      0.91       940\n",
      "    copy_fun_in_another_file       0.99      0.31      0.48       464\n",
      "       copy_fun_in_curr_file       0.83      1.00      0.91       901\n",
      "                 create_file       1.00      0.97      0.99       443\n",
      "delete_class_in_another_file       0.94      0.99      0.97       824\n",
      "   delete_class_in_curr_file       0.77      1.00      0.87       923\n",
      "                 delete_file       1.00      0.30      0.47       542\n",
      "  delete_fun_in_another_file       0.91      1.00      0.95       765\n",
      "     delete_fun_in_curr_file       0.96      1.00      0.98       900\n",
      "                import_class       1.00      0.97      0.98       754\n",
      "                  import_fun       0.95      1.00      0.97       863\n",
      "  move_class_in_another_file       0.88      0.74      0.80       767\n",
      "     move_class_in_curr_file       0.76      0.98      0.86       810\n",
      "    move_fun_in_another_file       0.92      0.53      0.68       770\n",
      "       move_fun_in_curr_file       0.66      0.99      0.79       799\n",
      "                   open_file       0.96      0.97      0.97       552\n",
      "                        redo       1.00      0.98      0.99       312\n",
      "rename_class_in_another_file       0.89      1.00      0.94       769\n",
      "   rename_class_in_curr_file       0.80      1.00      0.89       788\n",
      "                 rename_file       0.99      0.41      0.58       706\n",
      "  rename_fun_in_another_file       0.92      1.00      0.96       809\n",
      "     rename_fun_in_curr_file       0.86      1.00      0.93       757\n",
      "                   save_file       0.96      0.97      0.96       550\n",
      "                        undo       1.00      0.98      0.99       303\n",
      "\n",
      "                    accuracy                           0.88     18336\n",
      "                   macro avg       0.92      0.86      0.86     18336\n",
      "                weighted avg       0.90      0.88      0.86     18336\n",
      "\n"
     ]
    }
   ],
   "source": [
    "print(classification_report(y_test, y_pred_mnb))"
   ]
  },
  {
   "cell_type": "code",
   "execution_count": 27,
   "id": "bf3b36ce",
   "metadata": {},
   "outputs": [
    {
     "name": "stdout",
     "output_type": "stream",
     "text": [
      "Accuracy score: 88.08355148342059\n"
     ]
    }
   ],
   "source": [
    "print('Accuracy score:', accuracy_score(y_test, y_pred_mnb)*100)"
   ]
  },
  {
   "cell_type": "code",
   "execution_count": null,
   "id": "cdfa298a",
   "metadata": {},
   "outputs": [],
   "source": []
  },
  {
   "cell_type": "markdown",
   "id": "0f4f2428",
   "metadata": {},
   "source": [
    "### Logistic Regression"
   ]
  },
  {
   "cell_type": "code",
   "execution_count": 28,
   "id": "132befb2",
   "metadata": {},
   "outputs": [],
   "source": [
    "from sklearn.linear_model import LogisticRegression"
   ]
  },
  {
   "cell_type": "code",
   "execution_count": 29,
   "id": "c651a7ee",
   "metadata": {},
   "outputs": [
    {
     "data": {
      "text/html": [
       "<style>#sk-container-id-3 {color: black;}#sk-container-id-3 pre{padding: 0;}#sk-container-id-3 div.sk-toggleable {background-color: white;}#sk-container-id-3 label.sk-toggleable__label {cursor: pointer;display: block;width: 100%;margin-bottom: 0;padding: 0.3em;box-sizing: border-box;text-align: center;}#sk-container-id-3 label.sk-toggleable__label-arrow:before {content: \"▸\";float: left;margin-right: 0.25em;color: #696969;}#sk-container-id-3 label.sk-toggleable__label-arrow:hover:before {color: black;}#sk-container-id-3 div.sk-estimator:hover label.sk-toggleable__label-arrow:before {color: black;}#sk-container-id-3 div.sk-toggleable__content {max-height: 0;max-width: 0;overflow: hidden;text-align: left;background-color: #f0f8ff;}#sk-container-id-3 div.sk-toggleable__content pre {margin: 0.2em;color: black;border-radius: 0.25em;background-color: #f0f8ff;}#sk-container-id-3 input.sk-toggleable__control:checked~div.sk-toggleable__content {max-height: 200px;max-width: 100%;overflow: auto;}#sk-container-id-3 input.sk-toggleable__control:checked~label.sk-toggleable__label-arrow:before {content: \"▾\";}#sk-container-id-3 div.sk-estimator input.sk-toggleable__control:checked~label.sk-toggleable__label {background-color: #d4ebff;}#sk-container-id-3 div.sk-label input.sk-toggleable__control:checked~label.sk-toggleable__label {background-color: #d4ebff;}#sk-container-id-3 input.sk-hidden--visually {border: 0;clip: rect(1px 1px 1px 1px);clip: rect(1px, 1px, 1px, 1px);height: 1px;margin: -1px;overflow: hidden;padding: 0;position: absolute;width: 1px;}#sk-container-id-3 div.sk-estimator {font-family: monospace;background-color: #f0f8ff;border: 1px dotted black;border-radius: 0.25em;box-sizing: border-box;margin-bottom: 0.5em;}#sk-container-id-3 div.sk-estimator:hover {background-color: #d4ebff;}#sk-container-id-3 div.sk-parallel-item::after {content: \"\";width: 100%;border-bottom: 1px solid gray;flex-grow: 1;}#sk-container-id-3 div.sk-label:hover label.sk-toggleable__label {background-color: #d4ebff;}#sk-container-id-3 div.sk-serial::before {content: \"\";position: absolute;border-left: 1px solid gray;box-sizing: border-box;top: 0;bottom: 0;left: 50%;z-index: 0;}#sk-container-id-3 div.sk-serial {display: flex;flex-direction: column;align-items: center;background-color: white;padding-right: 0.2em;padding-left: 0.2em;position: relative;}#sk-container-id-3 div.sk-item {position: relative;z-index: 1;}#sk-container-id-3 div.sk-parallel {display: flex;align-items: stretch;justify-content: center;background-color: white;position: relative;}#sk-container-id-3 div.sk-item::before, #sk-container-id-3 div.sk-parallel-item::before {content: \"\";position: absolute;border-left: 1px solid gray;box-sizing: border-box;top: 0;bottom: 0;left: 50%;z-index: -1;}#sk-container-id-3 div.sk-parallel-item {display: flex;flex-direction: column;z-index: 1;position: relative;background-color: white;}#sk-container-id-3 div.sk-parallel-item:first-child::after {align-self: flex-end;width: 50%;}#sk-container-id-3 div.sk-parallel-item:last-child::after {align-self: flex-start;width: 50%;}#sk-container-id-3 div.sk-parallel-item:only-child::after {width: 0;}#sk-container-id-3 div.sk-dashed-wrapped {border: 1px dashed gray;margin: 0 0.4em 0.5em 0.4em;box-sizing: border-box;padding-bottom: 0.4em;background-color: white;}#sk-container-id-3 div.sk-label label {font-family: monospace;font-weight: bold;display: inline-block;line-height: 1.2em;}#sk-container-id-3 div.sk-label-container {text-align: center;}#sk-container-id-3 div.sk-container {/* jupyter's `normalize.less` sets `[hidden] { display: none; }` but bootstrap.min.css set `[hidden] { display: none !important; }` so we also need the `!important` here to be able to override the default hidden behavior on the sphinx rendered scikit-learn.org. See: https://github.com/scikit-learn/scikit-learn/issues/21755 */display: inline-block !important;position: relative;}#sk-container-id-3 div.sk-text-repr-fallback {display: none;}</style><div id=\"sk-container-id-3\" class=\"sk-top-container\"><div class=\"sk-text-repr-fallback\"><pre>LogisticRegression()</pre><b>In a Jupyter environment, please rerun this cell to show the HTML representation or trust the notebook. <br />On GitHub, the HTML representation is unable to render, please try loading this page with nbviewer.org.</b></div><div class=\"sk-container\" hidden><div class=\"sk-item\"><div class=\"sk-estimator sk-toggleable\"><input class=\"sk-toggleable__control sk-hidden--visually\" id=\"sk-estimator-id-3\" type=\"checkbox\" checked><label for=\"sk-estimator-id-3\" class=\"sk-toggleable__label sk-toggleable__label-arrow\">LogisticRegression</label><div class=\"sk-toggleable__content\"><pre>LogisticRegression()</pre></div></div></div></div></div>"
      ],
      "text/plain": [
       "LogisticRegression()"
      ]
     },
     "execution_count": 29,
     "metadata": {},
     "output_type": "execute_result"
    }
   ],
   "source": [
    "lr = LogisticRegression()\n",
    "lr.fit(x_train_vec, y_train)"
   ]
  },
  {
   "cell_type": "code",
   "execution_count": 30,
   "id": "33315902",
   "metadata": {},
   "outputs": [],
   "source": [
    "y_pred_lr = lr.predict(x_test_vec)"
   ]
  },
  {
   "cell_type": "markdown",
   "id": "5c0159af",
   "metadata": {},
   "source": [
    "#### Performance Analysis"
   ]
  },
  {
   "cell_type": "code",
   "execution_count": 31,
   "id": "3791a6a5",
   "metadata": {},
   "outputs": [],
   "source": [
    "from sklearn.metrics import classification_report, accuracy_score"
   ]
  },
  {
   "cell_type": "code",
   "execution_count": 32,
   "id": "1105fad5",
   "metadata": {},
   "outputs": [
    {
     "name": "stdout",
     "output_type": "stream",
     "text": [
      "                              precision    recall  f1-score   support\n",
      "\n",
      "                  close_file       0.99      0.97      0.98       521\n",
      "                     compile       1.00      1.00      1.00       292\n",
      "  copy_class_in_another_file       1.00      1.00      1.00       512\n",
      "     copy_class_in_curr_file       1.00      1.00      1.00       940\n",
      "    copy_fun_in_another_file       1.00      1.00      1.00       464\n",
      "       copy_fun_in_curr_file       1.00      1.00      1.00       901\n",
      "                 create_file       1.00      0.97      0.99       443\n",
      "delete_class_in_another_file       1.00      1.00      1.00       824\n",
      "   delete_class_in_curr_file       1.00      1.00      1.00       923\n",
      "                 delete_file       1.00      1.00      1.00       542\n",
      "  delete_fun_in_another_file       1.00      1.00      1.00       765\n",
      "     delete_fun_in_curr_file       1.00      1.00      1.00       900\n",
      "                import_class       1.00      1.00      1.00       754\n",
      "                  import_fun       1.00      1.00      1.00       863\n",
      "  move_class_in_another_file       1.00      1.00      1.00       767\n",
      "     move_class_in_curr_file       1.00      1.00      1.00       810\n",
      "    move_fun_in_another_file       1.00      1.00      1.00       770\n",
      "       move_fun_in_curr_file       1.00      1.00      1.00       799\n",
      "                   open_file       0.96      0.98      0.97       552\n",
      "                        redo       1.00      0.99      1.00       312\n",
      "rename_class_in_another_file       1.00      1.00      1.00       769\n",
      "   rename_class_in_curr_file       1.00      1.00      1.00       788\n",
      "                 rename_file       1.00      1.00      1.00       706\n",
      "  rename_fun_in_another_file       1.00      1.00      1.00       809\n",
      "     rename_fun_in_curr_file       1.00      1.00      1.00       757\n",
      "                   save_file       0.95      0.98      0.97       550\n",
      "                        undo       1.00      0.99      1.00       303\n",
      "\n",
      "                    accuracy                           1.00     18336\n",
      "                   macro avg       1.00      1.00      1.00     18336\n",
      "                weighted avg       1.00      1.00      1.00     18336\n",
      "\n"
     ]
    }
   ],
   "source": [
    "print(classification_report(y_test, y_pred_lr))"
   ]
  },
  {
   "cell_type": "code",
   "execution_count": 33,
   "id": "ea940ea8",
   "metadata": {},
   "outputs": [
    {
     "name": "stdout",
     "output_type": "stream",
     "text": [
      "Accuracy score: 99.65095986038395\n"
     ]
    }
   ],
   "source": [
    "print('Accuracy score:', accuracy_score(y_test, y_pred_lr)*100)"
   ]
  },
  {
   "cell_type": "code",
   "execution_count": null,
   "id": "0852e1d5",
   "metadata": {},
   "outputs": [],
   "source": []
  },
  {
   "cell_type": "markdown",
   "id": "a0513ae9",
   "metadata": {},
   "source": [
    "### Prediction on new data"
   ]
  },
  {
   "cell_type": "code",
   "execution_count": 34,
   "id": "6717765a",
   "metadata": {},
   "outputs": [],
   "source": [
    "new_text = \"Can you delete the project folder?\"\n",
    "new_x = vectorizer.transform([new_text]) "
   ]
  },
  {
   "cell_type": "code",
   "execution_count": 35,
   "id": "2667a2f7",
   "metadata": {},
   "outputs": [
    {
     "data": {
      "text/plain": [
       "array([[0., 0., 0., ..., 0., 0., 0.]])"
      ]
     },
     "execution_count": 35,
     "metadata": {},
     "output_type": "execute_result"
    }
   ],
   "source": [
    "new_x.toarray()"
   ]
  },
  {
   "cell_type": "code",
   "execution_count": 36,
   "id": "76c65dc5",
   "metadata": {},
   "outputs": [],
   "source": [
    "svc_prediction = svc.predict(new_x)\n",
    "\n",
    "nb_prediction = mnb.predict(new_x)\n",
    "\n",
    "lr_prediction = lr.predict(new_x)"
   ]
  },
  {
   "cell_type": "code",
   "execution_count": 37,
   "id": "a48ee2c9",
   "metadata": {},
   "outputs": [
    {
     "name": "stdout",
     "output_type": "stream",
     "text": [
      "SVM Prediction: ['delete_file']\n",
      "Naive Bayes Prediction: ['delete_file']\n",
      "Logistic Regression Prediction: ['delete_file']\n"
     ]
    }
   ],
   "source": [
    "print(\"SVM Prediction:\", svc_prediction)\n",
    "print(\"Naive Bayes Prediction:\", nb_prediction)\n",
    "print(\"Logistic Regression Prediction:\", lr_prediction)"
   ]
  },
  {
   "cell_type": "code",
   "execution_count": null,
   "id": "a0ffe3c2",
   "metadata": {},
   "outputs": [],
   "source": []
  }
 ],
 "metadata": {
  "kernelspec": {
   "display_name": "Python 3 (ipykernel)",
   "language": "python",
   "name": "python3"
  },
  "language_info": {
   "codemirror_mode": {
    "name": "ipython",
    "version": 3
   },
   "file_extension": ".py",
   "mimetype": "text/x-python",
   "name": "python",
   "nbconvert_exporter": "python",
   "pygments_lexer": "ipython3",
   "version": "3.9.12"
  }
 },
 "nbformat": 4,
 "nbformat_minor": 5
}
